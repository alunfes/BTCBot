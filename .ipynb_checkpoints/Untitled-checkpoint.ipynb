{
 "cells": [
  {
   "cell_type": "code",
   "execution_count": 10,
   "metadata": {},
   "outputs": [
    {
     "name": "stdout",
     "output_type": "stream",
     "text": [
      "ok order{'info': {'child_order_acceptance_id': 'JRF20190204-135926-091212'}, 'id': 'JRF20190204-135926-091212'}\n"
     ]
    }
   ],
   "source": [
    "import ccxt\n",
    "\n",
    "\n",
    "class Trade:\n",
    "    @classmethod\n",
    "    def initialize(cls):\n",
    "        cls.secret_key=''\n",
    "        cls.api_key = ''\n",
    "        cls.__read_keys()\n",
    "        cls.bf = ccxt.bitflyer({\n",
    "            'apiKey': cls.api_key,\n",
    "            'secret': cls.secret_key,\n",
    "        })\n",
    "\n",
    "        cls.order_id = {}\n",
    "\n",
    "    @classmethod\n",
    "    def __read_keys(cls):\n",
    "        file = open('ex.txt', 'r')  # 読み込みモードでオープン\n",
    "        cls.secret_key = file.readline().split(':')[1]\n",
    "        cls.secret_key = cls.secret_key[:len(cls.secret_key)-1]\n",
    "        cls.api_key = file.readline().split(':')[1]\n",
    "        cls.api_key = cls.api_key[:len(cls.api_key)-1]\n",
    "        file.close()\n",
    "\n",
    "\n",
    "    @classmethod\n",
    "    def order(cls, side, price, size, expire_m):\n",
    "        order_id = cls.bf.create_order(\n",
    "            symbol='BTC/JPY',\n",
    "            type='limit',\n",
    "            side=side,\n",
    "            price=price,\n",
    "            amount=size,\n",
    "            params={'product_code': 'FX_BTC_JPY'}\n",
    "            #params={'product_code': 'FX_BTC_JPY', 'minute_to_expire': expire_m}  # 期限切れまでの時間（分）（省略した場合は30日）\n",
    "        )\n",
    "        print('ok order'+str(order_id))\n",
    "        return order_id\n",
    "\n",
    "    @classmethod\n",
    "    def get_order_status(cls, id):\n",
    "        # orders = cls.bf.fetch_open_orders(symbol='BTC/JPY')\n",
    "        res = ''\n",
    "        try:\n",
    "            res = cls.bf.private_get_getchildorders(params={'product_code': 'FX_BTC_JPY', 'child_order_acceptance_id': id})[0]\n",
    "        except Exception as e:\n",
    "            print(e)\n",
    "        finally:\n",
    "            print(res)\n",
    "            return res\n",
    "\n",
    "    @classmethod\n",
    "    def get_orders(cls):\n",
    "        orders = cls.bf.fetch_open_orders(\n",
    "            symbol='BTC/JPY',\n",
    "            params = {\"product_code\": \"FX_BTC_JPY\"})\n",
    "        for o in orders:\n",
    "            print(o['id'])\n",
    "        return orders\n",
    "\n",
    "    @classmethod\n",
    "    def cancel_order(cls, order_id):\n",
    "        try:\n",
    "            res = cls.bf.cancel_order(order_id, \n",
    "                                      symbol='BTC/JPY', params = {\"product_code\": \"FX_BTC_JPY\"}))\n",
    "        except Exception as e:\n",
    "            print(e)\n",
    "\n",
    "\n",
    "if __name__ == '__main__':\n",
    "    Trade.initialize()\n",
    "    id = Trade.order('buy',300000,0.01,1)"
   ]
  },
  {
   "cell_type": "code",
   "execution_count": 18,
   "metadata": {},
   "outputs": [
    {
     "name": "stdout",
     "output_type": "stream",
     "text": [
      "{'id': 0, 'child_order_id': 'JFX20190204-135927-522098F', 'product_code': 'FX_BTC_JPY', 'side': 'BUY', 'child_order_type': 'LIMIT', 'price': 300000.0, 'average_price': 0.0, 'size': 0.01, 'child_order_state': 'ACTIVE', 'expire_date': '2019-03-06T13:59:26', 'child_order_date': '2019-02-04T13:59:26', 'child_order_acceptance_id': 'JRF20190204-135926-091212', 'outstanding_size': 0.01, 'cancel_size': 0.0, 'executed_size': 0.0, 'total_commission': 0.0}\n"
     ]
    },
    {
     "data": {
      "text/plain": [
       "'ACTIVE'"
      ]
     },
     "execution_count": 18,
     "metadata": {},
     "output_type": "execute_result"
    }
   ],
   "source": [
    "res = Trade.get_order_status(id['id'])\n",
    "res['child_order_state']"
   ]
  },
  {
   "cell_type": "code",
   "execution_count": 17,
   "metadata": {},
   "outputs": [],
   "source": [
    "Trade.cancel_order(id['id'])"
   ]
  },
  {
   "cell_type": "code",
   "execution_count": null,
   "metadata": {},
   "outputs": [],
   "source": []
  }
 ],
 "metadata": {
  "kernelspec": {
   "display_name": "Python 3",
   "language": "python",
   "name": "python3"
  },
  "language_info": {
   "codemirror_mode": {
    "name": "ipython",
    "version": 3
   },
   "file_extension": ".py",
   "mimetype": "text/x-python",
   "name": "python",
   "nbconvert_exporter": "python",
   "pygments_lexer": "ipython3",
   "version": "3.6.3"
  }
 },
 "nbformat": 4,
 "nbformat_minor": 2
}
